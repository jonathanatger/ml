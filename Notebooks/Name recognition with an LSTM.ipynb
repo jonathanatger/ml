{
 "cells": [
  {
   "cell_type": "markdown",
   "metadata": {
    "colab_type": "text",
    "id": "YXvgZIQCzvoN"
   },
   "source": [
    "# Imports"
   ]
  },
  {
   "cell_type": "code",
   "execution_count": 0,
   "metadata": {
    "colab": {},
    "colab_type": "code",
    "id": "PwN0-JM9QuDR"
   },
   "outputs": [],
   "source": [
    "%matplotlib inline\n",
    "from IPython.display import clear_output\n",
    "import tensorflow as tf\n",
    "from tensorflow.keras.models import Sequential\n",
    "from tensorflow.keras.layers import Dense, Dropout, LSTM, Bidirectional\n",
    "from tensorflow.keras.optimizers import Adam\n",
    "from tensorflow.keras.preprocessing import sequence\n",
    "from tensorflow.keras.callbacks import ModelCheckpoint\n",
    "from sklearn.model_selection import train_test_split\n",
    "import pandas as pd\n",
    "import numpy as np\n",
    "import matplotlib.pyplot as plt\n",
    "import math\n",
    "import re\n",
    "import string\n",
    "from unidecode import unidecode"
   ]
  },
  {
   "cell_type": "markdown",
   "metadata": {
    "colab_type": "text",
    "id": "RW-H862mzN9S"
   },
   "source": [
    "# Import data"
   ]
  },
  {
   "cell_type": "code",
   "execution_count": 0,
   "metadata": {
    "colab": {
     "base_uri": "https://localhost:8080/",
     "height": 206
    },
    "colab_type": "code",
    "executionInfo": {
     "elapsed": 1242,
     "status": "ok",
     "timestamp": 1565209079137,
     "user": {
      "displayName": "Habababa Babababa",
      "photoUrl": "",
      "userId": "11586460013508395186"
     },
     "user_tz": -120
    },
    "id": "tse11b4C1aE4",
    "outputId": "b00a15d5-c51a-4520-d68e-c02ea552ef1a"
   },
   "outputs": [
    {
     "data": {
      "text/html": [
       "<div>\n",
       "<style scoped>\n",
       "    .dataframe tbody tr th:only-of-type {\n",
       "        vertical-align: middle;\n",
       "    }\n",
       "\n",
       "    .dataframe tbody tr th {\n",
       "        vertical-align: top;\n",
       "    }\n",
       "\n",
       "    .dataframe thead th {\n",
       "        text-align: right;\n",
       "    }\n",
       "</style>\n",
       "<table border=\"1\" class=\"dataframe\">\n",
       "  <thead>\n",
       "    <tr style=\"text-align: right;\">\n",
       "      <th></th>\n",
       "      <th>Nom</th>\n",
       "      <th>Colonne1</th>\n",
       "    </tr>\n",
       "  </thead>\n",
       "  <tbody>\n",
       "    <tr>\n",
       "      <th>0</th>\n",
       "      <td>10-TEC-San</td>\n",
       "      <td>Sanitaires</td>\n",
       "    </tr>\n",
       "    <tr>\n",
       "      <th>1</th>\n",
       "      <td>10-TEC-San</td>\n",
       "      <td>Sanitaires</td>\n",
       "    </tr>\n",
       "    <tr>\n",
       "      <th>2</th>\n",
       "      <td>40-TEC-Palier</td>\n",
       "      <td>Circulation</td>\n",
       "    </tr>\n",
       "    <tr>\n",
       "      <th>3</th>\n",
       "      <td>40-TEC-Palier</td>\n",
       "      <td>Circulation</td>\n",
       "    </tr>\n",
       "    <tr>\n",
       "      <th>4</th>\n",
       "      <td>Accès Foodcourt / RIE</td>\n",
       "      <td>Circulation</td>\n",
       "    </tr>\n",
       "  </tbody>\n",
       "</table>\n",
       "</div>"
      ],
      "text/plain": [
       "                     Nom     Colonne1\n",
       "0             10-TEC-San   Sanitaires\n",
       "1             10-TEC-San   Sanitaires\n",
       "2          40-TEC-Palier  Circulation\n",
       "3          40-TEC-Palier  Circulation\n",
       "4  Accès Foodcourt / RIE  Circulation"
      ]
     },
     "execution_count": 7,
     "metadata": {
      "tags": []
     },
     "output_type": "execute_result"
    }
   ],
   "source": [
    "Data = pd.read_excel('modeldata.xlsx')\n",
    "\n",
    "Data.head()"
   ]
  },
  {
   "cell_type": "markdown",
   "metadata": {
    "colab_type": "text",
    "id": "zxlGzrHMzSyh"
   },
   "source": [
    "# Data treatment functions\n",
    "\n",
    "The goal is to create function to turn the raw data into suitable and structured data to feed in the machine learning model. The data comes as strings, that are cleaned of special characters and numbers (every number is turned into a 0). The strings are then turned into arrays based on the characters they contain, as the model will learn from character sequences. Padding allows all the arrays to have the same length. We then wrap thoses functions in a definition that will chain them together and take the full dataset as an input. "
   ]
  },
  {
   "cell_type": "code",
   "execution_count": 0,
   "metadata": {
    "colab": {
     "base_uri": "https://localhost:8080/",
     "height": 35
    },
    "colab_type": "code",
    "executionInfo": {
     "elapsed": 893,
     "status": "ok",
     "timestamp": 1565209104906,
     "user": {
      "displayName": "Habababa Babababa",
      "photoUrl": "",
      "userId": "11586460013508395186"
     },
     "user_tz": -120
    },
    "id": "6bZ1MKAeoLIx",
    "outputId": "29228a1a-115e-4cf3-e935-00669ed322d0"
   },
   "outputs": [
    {
     "data": {
      "text/plain": [
       "'0.c degres. yes.  euaenyeac'"
      ]
     },
     "execution_count": 8,
     "metadata": {
      "tags": []
     },
     "output_type": "execute_result"
    }
   ],
   "source": [
    "\n",
    "stringe = \"22°C Degrés? Yes!  ÈÙæñÿÈÀÇ\"\n",
    "\n",
    "def stringcleaner(string) :\n",
    "    #turn special characters into points whilst keeping spaces\n",
    "    s = re.sub('[^\\w ]', '.', string)\n",
    "    #turn special characters into normal characters\n",
    "    s = unidecode(s)\n",
    "    #turn numbers into 0\n",
    "    s = re.sub('\\d+', '0', s)\n",
    "    s = s.lower()\n",
    "    return s\n",
    "\n",
    "\n",
    "stringcleaner(stringe)"
   ]
  },
  {
   "cell_type": "code",
   "execution_count": 0,
   "metadata": {
    "colab": {},
    "colab_type": "code",
    "id": "1iauON6X4ofH"
   },
   "outputs": [],
   "source": [
    "#data cleaning functions\n",
    "def series_cleaner(series) :\n",
    "    name = series.name\n",
    "    li = series.tolist()\n",
    "    lis = []\n",
    "    for e in li :\n",
    "        e = stringcleaner(e)\n",
    "        lis.append(e)\n",
    "    se = pd.Series( lis )\n",
    "    se.name = name\n",
    "    return se"
   ]
  },
  {
   "cell_type": "code",
   "execution_count": 0,
   "metadata": {
    "colab": {
     "base_uri": "https://localhost:8080/",
     "height": 220
    },
    "colab_type": "code",
    "executionInfo": {
     "elapsed": 1117,
     "status": "ok",
     "timestamp": 1565209105169,
     "user": {
      "displayName": "Habababa Babababa",
      "photoUrl": "",
      "userId": "11586460013508395186"
     },
     "user_tz": -120
    },
    "id": "3nw9sA0C4o_z",
    "outputId": "dcb961de-8d99-4307-d3f5-519519cc3b7b"
   },
   "outputs": [
    {
     "data": {
      "text/plain": [
       "0                  0.tec.san\n",
       "1                  0.tec.san\n",
       "2               0.tec.palier\n",
       "3               0.tec.palier\n",
       "4      acces foodcourt . rie\n",
       "5      acces foodcourt . rie\n",
       "6    acces goupe electrogene\n",
       "7              acces parking\n",
       "8              acces parking\n",
       "9              acces parking\n",
       "Name: Nom, dtype: object"
      ]
     },
     "execution_count": 11,
     "metadata": {
      "tags": []
     },
     "output_type": "execute_result"
    }
   ],
   "source": [
    "series_cleaner(Data['Nom'])[0:10]"
   ]
  },
  {
   "cell_type": "code",
   "execution_count": 0,
   "metadata": {
    "colab": {},
    "colab_type": "code",
    "id": "XeWuqDss4pJe"
   },
   "outputs": [],
   "source": [
    "# dataframe manipulation and cleaning\n",
    "def retrieve_series(df) : \n",
    "    series = []\n",
    "    for e in df.columns.values :\n",
    "        series.append(df[e])\n",
    "    return series\n",
    "\n",
    "def prepare_DB_all (df) :\n",
    "    series = retrieve_series(df)\n",
    "    series_cl = []\n",
    "    for e in series :\n",
    "        cl_col = series_cleaner(e)\n",
    "        series_cl.append(cl_col)\n",
    "    df_se = pd.concat(series_cl, axis=1)\n",
    "    return df_se\n",
    "        "
   ]
  },
  {
   "cell_type": "code",
   "execution_count": 0,
   "metadata": {
    "colab": {
     "base_uri": "https://localhost:8080/",
     "height": 677
    },
    "colab_type": "code",
    "executionInfo": {
     "elapsed": 1100,
     "status": "ok",
     "timestamp": 1565209105174,
     "user": {
      "displayName": "Habababa Babababa",
      "photoUrl": "",
      "userId": "11586460013508395186"
     },
     "user_tz": -120
    },
    "id": "kmqmhspb4pFz",
    "outputId": "b6345277-e13e-4624-8f23-0723d8dd89ce"
   },
   "outputs": [
    {
     "data": {
      "text/html": [
       "<div>\n",
       "<style scoped>\n",
       "    .dataframe tbody tr th:only-of-type {\n",
       "        vertical-align: middle;\n",
       "    }\n",
       "\n",
       "    .dataframe tbody tr th {\n",
       "        vertical-align: top;\n",
       "    }\n",
       "\n",
       "    .dataframe thead th {\n",
       "        text-align: right;\n",
       "    }\n",
       "</style>\n",
       "<table border=\"1\" class=\"dataframe\">\n",
       "  <thead>\n",
       "    <tr style=\"text-align: right;\">\n",
       "      <th></th>\n",
       "      <th>Nom</th>\n",
       "      <th>Colonne1</th>\n",
       "    </tr>\n",
       "  </thead>\n",
       "  <tbody>\n",
       "    <tr>\n",
       "      <th>10</th>\n",
       "      <td>acces parking</td>\n",
       "      <td>parking</td>\n",
       "    </tr>\n",
       "    <tr>\n",
       "      <th>11</th>\n",
       "      <td>acces parking</td>\n",
       "      <td>parking</td>\n",
       "    </tr>\n",
       "    <tr>\n",
       "      <th>12</th>\n",
       "      <td>acces parking</td>\n",
       "      <td>parking</td>\n",
       "    </tr>\n",
       "    <tr>\n",
       "      <th>13</th>\n",
       "      <td>acces parking</td>\n",
       "      <td>parking</td>\n",
       "    </tr>\n",
       "    <tr>\n",
       "      <th>14</th>\n",
       "      <td>acces parking</td>\n",
       "      <td>parking</td>\n",
       "    </tr>\n",
       "    <tr>\n",
       "      <th>15</th>\n",
       "      <td>acces parking</td>\n",
       "      <td>parking</td>\n",
       "    </tr>\n",
       "    <tr>\n",
       "      <th>16</th>\n",
       "      <td>acces terrasse</td>\n",
       "      <td>circulation</td>\n",
       "    </tr>\n",
       "    <tr>\n",
       "      <th>17</th>\n",
       "      <td>acces terrasse</td>\n",
       "      <td>circulation</td>\n",
       "    </tr>\n",
       "    <tr>\n",
       "      <th>18</th>\n",
       "      <td>acces vestiaire</td>\n",
       "      <td>circulation</td>\n",
       "    </tr>\n",
       "    <tr>\n",
       "      <th>19</th>\n",
       "      <td>accueil</td>\n",
       "      <td>utilitaire</td>\n",
       "    </tr>\n",
       "    <tr>\n",
       "      <th>20</th>\n",
       "      <td>accueil</td>\n",
       "      <td>utilitaire</td>\n",
       "    </tr>\n",
       "    <tr>\n",
       "      <th>21</th>\n",
       "      <td>accueil</td>\n",
       "      <td>utilitaire</td>\n",
       "    </tr>\n",
       "    <tr>\n",
       "      <th>22</th>\n",
       "      <td>aerorefrigerant</td>\n",
       "      <td>lt</td>\n",
       "    </tr>\n",
       "    <tr>\n",
       "      <th>23</th>\n",
       "      <td>aerorefrigerant</td>\n",
       "      <td>lt</td>\n",
       "    </tr>\n",
       "    <tr>\n",
       "      <th>24</th>\n",
       "      <td>aerorefroidisseur commerce</td>\n",
       "      <td>lt</td>\n",
       "    </tr>\n",
       "    <tr>\n",
       "      <th>25</th>\n",
       "      <td>aerorefroidisseur ge</td>\n",
       "      <td>lt</td>\n",
       "    </tr>\n",
       "    <tr>\n",
       "      <th>26</th>\n",
       "      <td>agora</td>\n",
       "      <td>commun</td>\n",
       "    </tr>\n",
       "    <tr>\n",
       "      <th>27</th>\n",
       "      <td>agora</td>\n",
       "      <td>commun</td>\n",
       "    </tr>\n",
       "    <tr>\n",
       "      <th>28</th>\n",
       "      <td>air neuf</td>\n",
       "      <td>gt</td>\n",
       "    </tr>\n",
       "    <tr>\n",
       "      <th>29</th>\n",
       "      <td>air neuf</td>\n",
       "      <td>gt</td>\n",
       "    </tr>\n",
       "  </tbody>\n",
       "</table>\n",
       "</div>"
      ],
      "text/plain": [
       "                           Nom     Colonne1\n",
       "10               acces parking      parking\n",
       "11               acces parking      parking\n",
       "12               acces parking      parking\n",
       "13               acces parking      parking\n",
       "14               acces parking      parking\n",
       "15               acces parking      parking\n",
       "16              acces terrasse  circulation\n",
       "17              acces terrasse  circulation\n",
       "18             acces vestiaire  circulation\n",
       "19                     accueil   utilitaire\n",
       "20                     accueil   utilitaire\n",
       "21                     accueil   utilitaire\n",
       "22             aerorefrigerant           lt\n",
       "23             aerorefrigerant           lt\n",
       "24  aerorefroidisseur commerce           lt\n",
       "25        aerorefroidisseur ge           lt\n",
       "26                       agora       commun\n",
       "27                       agora       commun\n",
       "28                    air neuf           gt\n",
       "29                    air neuf           gt"
      ]
     },
     "execution_count": 13,
     "metadata": {
      "tags": []
     },
     "output_type": "execute_result"
    }
   ],
   "source": [
    "PreparedData = prepare_DB_all(Data)\n",
    "PreparedData[10:30]"
   ]
  },
  {
   "cell_type": "code",
   "execution_count": 0,
   "metadata": {
    "colab": {
     "base_uri": "https://localhost:8080/",
     "height": 35
    },
    "colab_type": "code",
    "executionInfo": {
     "elapsed": 1073,
     "status": "ok",
     "timestamp": 1565209105177,
     "user": {
      "displayName": "Habababa Babababa",
      "photoUrl": "",
      "userId": "11586460013508395186"
     },
     "user_tz": -120
    },
    "id": "p5eTww3ruOfF",
    "outputId": "fedcd7a2-ef4f-4cea-86d7-a9402c293a3e"
   },
   "outputs": [
    {
     "data": {
      "text/plain": [
       "' abcdefghijklmnopqrstuvwxyz.0'"
      ]
     },
     "execution_count": 15,
     "metadata": {
      "tags": []
     },
     "output_type": "execute_result"
    }
   ],
   "source": [
    "#list of characters\n",
    "acceptedcharacters =''.join([' ', string.ascii_lowercase, '.', '0'])\n",
    "acceptedcharacters"
   ]
  },
  {
   "cell_type": "code",
   "execution_count": 0,
   "metadata": {
    "colab": {
     "base_uri": "https://localhost:8080/",
     "height": 35
    },
    "colab_type": "code",
    "executionInfo": {
     "elapsed": 1063,
     "status": "ok",
     "timestamp": 1565209105178,
     "user": {
      "displayName": "Habababa Babababa",
      "photoUrl": "",
      "userId": "11586460013508395186"
     },
     "user_tz": -120
    },
    "id": "kMUjuHhowV47",
    "outputId": "9554eeb4-c383-4164-d3d3-0217be31db94"
   },
   "outputs": [
    {
     "data": {
      "text/plain": [
       "29"
      ]
     },
     "execution_count": 16,
     "metadata": {
      "tags": []
     },
     "output_type": "execute_result"
    }
   ],
   "source": [
    "num_attributes = len(acceptedcharacters)\n",
    "num_attributes"
   ]
  },
  {
   "cell_type": "code",
   "execution_count": 0,
   "metadata": {
    "colab": {
     "base_uri": "https://localhost:8080/",
     "height": 35
    },
    "colab_type": "code",
    "executionInfo": {
     "elapsed": 1053,
     "status": "ok",
     "timestamp": 1565209105180,
     "user": {
      "displayName": "Habababa Babababa",
      "photoUrl": "",
      "userId": "11586460013508395186"
     },
     "user_tz": -120
    },
    "id": "jJYjkP6zuOn2",
    "outputId": "44ccb5ed-ab27-493e-fd05-7c87e8ae47af"
   },
   "outputs": [
    {
     "data": {
      "text/plain": [
       "1"
      ]
     },
     "execution_count": 17,
     "metadata": {
      "tags": []
     },
     "output_type": "execute_result"
    }
   ],
   "source": [
    "# create dictionnary for characters\n",
    "dictionnary = {}\n",
    "i=0\n",
    "for char in acceptedcharacters :\n",
    "    dictionnary[char] = acceptedcharacters.index(char)\n",
    "dictionnary['a']\n"
   ]
  },
  {
   "cell_type": "code",
   "execution_count": 0,
   "metadata": {
    "colab": {
     "base_uri": "https://localhost:8080/",
     "height": 54
    },
    "colab_type": "code",
    "executionInfo": {
     "elapsed": 1041,
     "status": "ok",
     "timestamp": 1565209105181,
     "user": {
      "displayName": "Habababa Babababa",
      "photoUrl": "",
      "userId": "11586460013508395186"
     },
     "user_tz": -120
    },
    "id": "3kk3qUSjuOva",
    "outputId": "50a66d08-6abe-4139-bf7c-1aa1b77cf3f2"
   },
   "outputs": [
    {
     "data": {
      "text/plain": [
       "array([0, 0, 0, 0, 0, 0, 0, 0, 0, 0, 0, 0, 0, 0, 0, 0, 0, 0, 0, 1, 0, 0,\n",
       "       0, 0, 0, 0, 0, 0, 0], dtype=int32)"
      ]
     },
     "execution_count": 18,
     "metadata": {
      "tags": []
     },
     "output_type": "execute_result"
    }
   ],
   "source": [
    "#turn words into an array of shape (number of characters, number of features)\n",
    "def converttotensor (string, dictionnary) :\n",
    "    list = []\n",
    "    arraylist = []\n",
    "    for c in string :\n",
    "        list.append(dictionnary[c])\n",
    "    for num in list :\n",
    "        zeros = np.zeros(num_attributes)\n",
    "        zeros[num] = 1\n",
    "        arraylist.append(zeros)\n",
    "    \n",
    "    array = np.array(arraylist)\n",
    "    return array\n",
    "   \n",
    "#add padding corresponding to the longest of the words\n",
    "def padsequencesofcharacters (listofstrings, dictionnary):\n",
    "    vectors = [converttotensor(x, dictionnary) for x in listofstrings]\n",
    "    paddedvectors = tf.keras.preprocessing.sequence.pad_sequences(vectors, maxlen=None, dtype='int32')\n",
    "    return paddedvectors    \n",
    "\n",
    "a = padsequencesofcharacters(PreparedData['Nom'][0:10], dictionnary)\n",
    "\n",
    "\n",
    "a[0][20]"
   ]
  },
  {
   "cell_type": "code",
   "execution_count": 0,
   "metadata": {
    "colab": {
     "base_uri": "https://localhost:8080/",
     "height": 91
    },
    "colab_type": "code",
    "executionInfo": {
     "elapsed": 1026,
     "status": "ok",
     "timestamp": 1565209105181,
     "user": {
      "displayName": "Habababa Babababa",
      "photoUrl": "",
      "userId": "11586460013508395186"
     },
     "user_tz": -120
    },
    "id": "3O6SzUZSAWFQ",
    "outputId": "4a38cfae-9436-4a21-f767-e514f1f33d78"
   },
   "outputs": [
    {
     "data": {
      "text/plain": [
       "array(['bureaux', 'circulation', 'circulation technique',\n",
       "       'circulation verticale', 'commerce', 'commun', 'cuisine',\n",
       "       'exterieur', 'gt', 'lt', 'parking', 'restauration', 'sanitaires',\n",
       "       'utilitaire'], dtype=object)"
      ]
     },
     "execution_count": 19,
     "metadata": {
      "tags": []
     },
     "output_type": "execute_result"
    }
   ],
   "source": [
    "targets = np.array(PreparedData['Colonne1'])\n",
    "uniqueclasses = np.unique(targets)\n",
    "uniqueclasses\n"
   ]
  },
  {
   "cell_type": "code",
   "execution_count": 0,
   "metadata": {
    "colab": {
     "base_uri": "https://localhost:8080/",
     "height": 109
    },
    "colab_type": "code",
    "executionInfo": {
     "elapsed": 1017,
     "status": "ok",
     "timestamp": 1565209105183,
     "user": {
      "displayName": "Habababa Babababa",
      "photoUrl": "",
      "userId": "11586460013508395186"
     },
     "user_tz": -120
    },
    "id": "2opHX5CyAWFZ",
    "outputId": "c8b930d4-0d49-4b2d-a946-98b44feeab91"
   },
   "outputs": [
    {
     "data": {
      "text/plain": [
       "array([[0, 0, 0, 0, 0, 0, 0, 0, 0, 0, 0, 0, 1, 0],\n",
       "       [0, 0, 0, 0, 0, 0, 0, 0, 0, 0, 0, 0, 1, 0],\n",
       "       [0, 1, 0, 0, 0, 0, 0, 0, 0, 0, 0, 0, 0, 0],\n",
       "       [0, 1, 0, 0, 0, 0, 0, 0, 0, 0, 0, 0, 0, 0],\n",
       "       [0, 1, 0, 0, 0, 0, 0, 0, 0, 0, 0, 0, 0, 0]], dtype=uint8)"
      ]
     },
     "execution_count": 20,
     "metadata": {
      "tags": []
     },
     "output_type": "execute_result"
    }
   ],
   "source": [
    "#turn a column of a dataframe into an one hotted array\n",
    "def onehot_series (df, series) :\n",
    "    columns = retrieve_series(df)\n",
    "    df_ohe = df.copy()\n",
    "    for column in columns :\n",
    "        if column.name == series :\n",
    "            df_ohe = pd.concat([df_ohe, pd.get_dummies(column ,'', prefix_sep='')], axis=1)\n",
    "            df_ohe.drop(column.name, axis=1, inplace=True)\n",
    "        else : df_ohe.drop(column.name, axis=1, inplace=True)\n",
    "    return np.array(df_ohe)\n",
    "\n",
    "#turn a column of a dataframe into an one hotted array\n",
    "def onehot_df_array (df, series) :\n",
    "    columns = retrieve_series(df)\n",
    "    df_ohe = df\n",
    "    for column in columns :\n",
    "        df_ohe = pd.concat([df_ohe, pd.get_dummies(column ,'', prefix_sep='')], axis=1)\n",
    "        df_ohe.drop(column.name, axis=1, inplace=True)\n",
    "    return np.array(df_ohe)\n",
    "\n",
    "onehot_series (PreparedData, 'Colonne1')[0:5]"
   ]
  },
  {
   "cell_type": "code",
   "execution_count": 0,
   "metadata": {
    "colab": {
     "base_uri": "https://localhost:8080/",
     "height": 54
    },
    "colab_type": "code",
    "executionInfo": {
     "elapsed": 1286,
     "status": "ok",
     "timestamp": 1565209105462,
     "user": {
      "displayName": "Habababa Babababa",
      "photoUrl": "",
      "userId": "11586460013508395186"
     },
     "user_tz": -120
    },
    "id": "LFfSP-tbjxRi",
    "outputId": "0249585a-9757-427d-dad2-25a96a674b0a"
   },
   "outputs": [
    {
     "data": {
      "text/plain": [
       "array([0, 0, 0, 0, 0, 0, 0, 0, 0, 0, 0, 0, 0, 0, 0, 0, 0, 0, 0, 0, 0, 0,\n",
       "       0, 0, 0, 0, 0, 0, 0], dtype=int32)"
      ]
     },
     "execution_count": 21,
     "metadata": {
      "tags": []
     },
     "output_type": "execute_result"
    }
   ],
   "source": [
    "\n",
    "def DatatoRNN (dataframe) :\n",
    "    #returns a dataframe\n",
    "    prepareddata = prepare_DB_all(dataframe)\n",
    "    #prune duplicates\n",
    "    #prepareddata = pd.DataFrame.drop_duplicates(PreparedData, subset=None, keep='first', inplace=False)\n",
    "    \n",
    "    #returns an array 3-D\n",
    "    paddeddata = padsequencesofcharacters(prepareddata['Nom'], dictionnary)\n",
    "    #array for target\n",
    "    targetdata = onehot_series(prepareddata, 'Colonne1')\n",
    "    #returns 4 lists of arrays\n",
    "    x_train, x_test, y_train, y_test = train_test_split(paddeddata, targetdata, test_size = 0.2, random_state=42)\n",
    "    \n",
    "    \n",
    "    return x_train, y_train, x_test, y_test\n",
    "\n",
    "    \n",
    "tornn = DatatoRNN(Data)\n",
    "tornn[0][0][0]"
   ]
  },
  {
   "cell_type": "code",
   "execution_count": 0,
   "metadata": {
    "colab": {},
    "colab_type": "code",
    "id": "1uWKjCVfjxLs"
   },
   "outputs": [],
   "source": []
  },
  {
   "cell_type": "markdown",
   "metadata": {
    "colab_type": "text",
    "id": "mfc3oEkgzhPU"
   },
   "source": [
    "# Actual data conversion for RNN\n",
    "Directly reuses the functions written before to setup for the machine learning model training."
   ]
  },
  {
   "cell_type": "code",
   "execution_count": 0,
   "metadata": {
    "colab": {
     "base_uri": "https://localhost:8080/",
     "height": 202
    },
    "colab_type": "code",
    "executionInfo": {
     "elapsed": 482,
     "status": "ok",
     "timestamp": 1565209120435,
     "user": {
      "displayName": "Habababa Babababa",
      "photoUrl": "",
      "userId": "11586460013508395186"
     },
     "user_tz": -120
    },
    "id": "-9qv3yh9uNlO",
    "outputId": "12f787a6-35e6-4e6f-e4b7-d34e53614aaa"
   },
   "outputs": [
    {
     "data": {
      "text/plain": [
       "(3976, array([[0, 0, 0, 0, 0, 0, 0, 0, 0, 0, 0, 0, 1, 0],\n",
       "        [0, 0, 0, 0, 0, 0, 0, 0, 1, 0, 0, 0, 0, 0],\n",
       "        [0, 1, 0, 0, 0, 0, 0, 0, 0, 0, 0, 0, 0, 0],\n",
       "        [0, 0, 0, 1, 0, 0, 0, 0, 0, 0, 0, 0, 0, 0],\n",
       "        [0, 0, 0, 0, 0, 0, 0, 0, 1, 0, 0, 0, 0, 0],\n",
       "        [0, 0, 0, 0, 0, 0, 0, 0, 0, 1, 0, 0, 0, 0],\n",
       "        [0, 0, 0, 0, 0, 0, 0, 0, 1, 0, 0, 0, 0, 0],\n",
       "        [0, 0, 0, 0, 0, 0, 0, 0, 0, 0, 0, 0, 1, 0],\n",
       "        [0, 0, 0, 1, 0, 0, 0, 0, 0, 0, 0, 0, 0, 0],\n",
       "        [0, 0, 0, 1, 0, 0, 0, 0, 0, 0, 0, 0, 0, 0]], dtype=uint8))"
      ]
     },
     "execution_count": 22,
     "metadata": {
      "tags": []
     },
     "output_type": "execute_result"
    }
   ],
   "source": [
    "dataforRNN = DatatoRNN(Data)\n",
    "x_train = dataforRNN[0]\n",
    "y_train = dataforRNN[1]\n",
    "x_test = dataforRNN[2]\n",
    "y_test = dataforRNN[3]\n",
    "len(y_train), y_train[0:10]"
   ]
  },
  {
   "cell_type": "code",
   "execution_count": 0,
   "metadata": {
    "colab": {
     "base_uri": "https://localhost:8080/",
     "height": 923
    },
    "colab_type": "code",
    "executionInfo": {
     "elapsed": 640,
     "status": "ok",
     "timestamp": 1565209122536,
     "user": {
      "displayName": "Habababa Babababa",
      "photoUrl": "",
      "userId": "11586460013508395186"
     },
     "user_tz": -120
    },
    "id": "u5_kzWvAAWGO",
    "outputId": "64104f0a-4a3c-435f-e4e0-1d9856b3eaa9"
   },
   "outputs": [
    {
     "data": {
      "text/plain": [
       "(3976, array([[[0, 0, 0, ..., 0, 0, 0],\n",
       "         [0, 0, 0, ..., 0, 0, 0],\n",
       "         [0, 0, 0, ..., 0, 0, 0],\n",
       "         ...,\n",
       "         [0, 0, 0, ..., 0, 1, 0],\n",
       "         [1, 0, 0, ..., 0, 0, 0],\n",
       "         [0, 0, 0, ..., 0, 0, 0]],\n",
       " \n",
       "        [[0, 0, 0, ..., 0, 0, 0],\n",
       "         [0, 0, 0, ..., 0, 0, 0],\n",
       "         [0, 0, 0, ..., 0, 0, 0],\n",
       "         ...,\n",
       "         [0, 0, 1, ..., 0, 0, 0],\n",
       "         [0, 0, 0, ..., 0, 0, 0],\n",
       "         [0, 0, 0, ..., 0, 0, 0]],\n",
       " \n",
       "        [[0, 0, 0, ..., 0, 0, 0],\n",
       "         [0, 0, 0, ..., 0, 0, 0],\n",
       "         [0, 0, 0, ..., 0, 0, 0],\n",
       "         ...,\n",
       "         [0, 0, 0, ..., 0, 0, 0],\n",
       "         [0, 1, 0, ..., 0, 0, 0],\n",
       "         [0, 0, 0, ..., 0, 0, 0]],\n",
       " \n",
       "        ...,\n",
       " \n",
       "        [[0, 0, 0, ..., 0, 0, 0],\n",
       "         [0, 0, 0, ..., 0, 0, 0],\n",
       "         [0, 0, 0, ..., 0, 0, 0],\n",
       "         ...,\n",
       "         [0, 0, 0, ..., 0, 1, 0],\n",
       "         [0, 0, 0, ..., 0, 0, 1],\n",
       "         [0, 1, 0, ..., 0, 0, 0]],\n",
       " \n",
       "        [[0, 0, 0, ..., 0, 0, 0],\n",
       "         [0, 0, 0, ..., 0, 0, 0],\n",
       "         [0, 0, 0, ..., 0, 0, 0],\n",
       "         ...,\n",
       "         [0, 0, 0, ..., 0, 0, 1],\n",
       "         [0, 0, 0, ..., 0, 0, 0],\n",
       "         [0, 0, 0, ..., 0, 0, 0]],\n",
       " \n",
       "        [[0, 0, 0, ..., 0, 0, 0],\n",
       "         [0, 0, 0, ..., 0, 0, 0],\n",
       "         [0, 0, 0, ..., 0, 0, 0],\n",
       "         ...,\n",
       "         [1, 0, 0, ..., 0, 0, 0],\n",
       "         [0, 0, 0, ..., 0, 0, 0],\n",
       "         [0, 0, 0, ..., 0, 0, 1]]], dtype=int32))"
      ]
     },
     "execution_count": 23,
     "metadata": {
      "tags": []
     },
     "output_type": "execute_result"
    }
   ],
   "source": [
    "len(x_train), x_train[0:10]"
   ]
  },
  {
   "cell_type": "markdown",
   "metadata": {
    "colab_type": "text",
    "id": "ZatT_xXC1hBT"
   },
   "source": [
    "# Machine learning model construction\n",
    "We used the keras API to get tensorflow to build a LSTM-cells bases model taking sequences as inputs and categorizing them with the help of a fully connected layer on top. This version uses Bidirectionnal layers but simple layers work just fine. Dropout is added to regularize the model."
   ]
  },
  {
   "cell_type": "code",
   "execution_count": null,
   "metadata": {
    "colab": {
     "base_uri": "https://localhost:8080/",
     "height": 0
    },
    "colab_type": "code",
    "executionInfo": {
     "elapsed": 1065,
     "status": "error",
     "timestamp": 1566759642542,
     "user": {
      "displayName": "Habababa Babababa",
      "photoUrl": "",
      "userId": "11586460013508395186"
     },
     "user_tz": -120
    },
    "id": "6HVzlZCQuNqG",
    "outputId": "0990ed2e-8fe8-4223-c949-312b3729968f"
   },
   "outputs": [],
   "source": [
    "#hyperparameters of the model\n",
    "lengthtrainingdata = len(dataforRNN[0])\n",
    "batch_size = 25\n",
    "num_steps = len(dataforRNN[0][0][0])\n",
    "num_epochs = 100\n",
    "learning_rate = 0.01\n",
    "\n",
    "_optimizer = tf.keras.optimizers.Adam(lr=learning_rate, beta_1=0.9, beta_2=0.999, epsilon=None, decay=0.0, amsgrad=False)"
   ]
  },
  {
   "cell_type": "code",
   "execution_count": 0,
   "metadata": {
    "colab": {},
    "colab_type": "code",
    "id": "HQcFuhELSYBP"
   },
   "outputs": [],
   "source": [
    "#number of different characters\n",
    "inputshape = len(acceptedcharacters)\n",
    "outputshape = uniqueclasses.size\n",
    "\n",
    "#Model\n",
    "model = Sequential()\n",
    "\n",
    "model.add(Bidirectional(LSTM(128, activation='relu', return_sequences=True ),  input_shape=(50, num_attributes), merge_mode=\"concat\" ))\n",
    "model.add(Dropout(0.3))\n",
    "\n",
    "model.add(LSTM(64, activation='relu', return_sequences=False), merge_mode=\"concat\"))\n",
    "model.add(Dropout(0.3))\n",
    "\n",
    "model.add(Dense(outputshape, activation='softmax'))\n",
    "\n",
    "\n",
    "\n"
   ]
  },
  {
   "cell_type": "code",
   "execution_count": 0,
   "metadata": {
    "colab": {
     "base_uri": "https://localhost:8080/",
     "height": 398
    },
    "colab_type": "code",
    "executionInfo": {
     "elapsed": 1270,
     "status": "ok",
     "timestamp": 1565191600738,
     "user": {
      "displayName": "Habababa Babababa",
      "photoUrl": "",
      "userId": "11586460013508395186"
     },
     "user_tz": -120
    },
    "id": "cJmQniu-AWGl",
    "outputId": "21cb74ef-970b-4acc-ae83-c54036dae2cb"
   },
   "outputs": [
    {
     "name": "stdout",
     "output_type": "stream",
     "text": [
      "Model: \"sequential_6\"\n",
      "_________________________________________________________________\n",
      "Layer (type)                 Output Shape              Param #   \n",
      "=================================================================\n",
      "bidirectional_12 (Bidirectio (None, 50, 256)           161792    \n",
      "_________________________________________________________________\n",
      "dropout_17 (Dropout)         (None, 50, 256)           0         \n",
      "_________________________________________________________________\n",
      "bidirectional_13 (Bidirectio (None, 128)               164352    \n",
      "_________________________________________________________________\n",
      "dropout_18 (Dropout)         (None, 128)               0         \n",
      "_________________________________________________________________\n",
      "dense_11 (Dense)             (None, 14)                1806      \n",
      "=================================================================\n",
      "Total params: 327,950\n",
      "Trainable params: 327,950\n",
      "Non-trainable params: 0\n",
      "_________________________________________________________________\n",
      "Inputs: (None, 50, 29)\n",
      "Outputs: (None, 14)\n",
      "Actual input: (3976, 50, 29)\n",
      "Actual output: (3976, 14)\n"
     ]
    }
   ],
   "source": [
    "model.summary()\n",
    "print (\"Inputs: {}\".format(model.input_shape))\n",
    "print (\"Outputs: {}\".format(model.output_shape))\n",
    "print (\"Actual input: {}\".format(x_train.shape))\n",
    "print (\"Actual output: {}\".format(y_train.shape))"
   ]
  },
  {
   "cell_type": "markdown",
   "metadata": {
    "colab_type": "text",
    "id": "r4Llh7WApSal"
   },
   "source": [
    "# Model training\n",
    "For the training, we added callbacks that will save the best model after training steps. A manual save command at the end can do the trick but LSTMs are pretty unstable."
   ]
  },
  {
   "cell_type": "code",
   "execution_count": 0,
   "metadata": {
    "cellView": "both",
    "colab": {},
    "colab_type": "code",
    "id": "ZRsOOOrOUic7"
   },
   "outputs": [],
   "source": [
    "model.compile(loss='categorical_crossentropy', optimizer=_optimizer, metrics=['categorical_accuracy'])\n",
    "\n",
    "#callbacks to save best model : val_acc isn't registered ? somehow doesnt work. maybe by inputting 'val_categorical_accuracy'\n",
    "filepath=\"SavedModels\\\\Onedenselayerandnoduplicates{epoch:02d}.hdf5\"\n",
    "checkpoint = ModelCheckpoint(filepath, monitor='val_categorical_accuracy', verbose=0, save_best_only=True, mode='max')\n",
    "\n",
    "\n",
    "\n",
    "callbacks_list = [checkpoint]          \n",
    "\n",
    "\n",
    "\n",
    "history = model.fit(x_train,\n",
    "          y_train,\n",
    "          epochs= num_epochs,\n",
    "          validation_data=(x_test, y_test),\n",
    "          callbacks=callbacks_list)"
   ]
  }
 ],
 "metadata": {
  "accelerator": "GPU",
  "colab": {
   "collapsed_sections": [
    "zxlGzrHMzSyh",
    "mfc3oEkgzhPU",
    "FD5ZtBtEQW7V"
   ],
   "name": "Name recognition with an LSTM.ipynb",
   "provenance": [
    {
     "file_id": "1CbJCRlDDhc610C-Y9al_CdVjYQyZsQ32",
     "timestamp": 1566758189174
    },
    {
     "file_id": "1p_T-6ZiL27D8b_tzUJt-Z3LdD7x-Ltiy",
     "timestamp": 1565034426107
    },
    {
     "file_id": "1dhbQQB-UGPHDhiw89DVewWCwUmS_obbw",
     "timestamp": 1564931956850
    },
    {
     "file_id": "1poAupVdAIHtcCI_nHpw-KLDiGDTC0aj0",
     "timestamp": 1564086097207
    }
   ],
   "version": "0.3.2"
  },
  "kernelspec": {
   "display_name": "Python 3",
   "language": "python",
   "name": "python3"
  },
  "language_info": {
   "codemirror_mode": {
    "name": "ipython",
    "version": 3
   },
   "file_extension": ".py",
   "mimetype": "text/x-python",
   "name": "python",
   "nbconvert_exporter": "python",
   "pygments_lexer": "ipython3",
   "version": "3.6.8"
  }
 },
 "nbformat": 4,
 "nbformat_minor": 1
}
