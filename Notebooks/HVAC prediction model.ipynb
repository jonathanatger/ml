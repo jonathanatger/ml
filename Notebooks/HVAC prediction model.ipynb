{
 "cells": [
  {
   "cell_type": "code",
   "execution_count": 45,
   "metadata": {},
   "outputs": [],
   "source": [
    "import pandas as pd\n",
    "import numpy as np\n",
    "import matplotlib.pyplot as plt\n",
    "\n",
    "import warnings\n",
    "warnings.filterwarnings('ignore')"
   ]
  },
  {
   "cell_type": "code",
   "execution_count": 75,
   "metadata": {
    "scrolled": true
   },
   "outputs": [],
   "source": [
    "# pick up csv file\n",
    "OG_data = pd.read_csv(\"Data.csv\", sep=\";\")"
   ]
  },
  {
   "cell_type": "code",
   "execution_count": 47,
   "metadata": {},
   "outputs": [],
   "source": [
    "#copy for safety\n",
    "DB = OG_data.copy()"
   ]
  },
  {
   "cell_type": "code",
   "execution_count": 48,
   "metadata": {},
   "outputs": [
    {
     "data": {
      "text/plain": [
       "Index(['Code_Local', '10.01', '10.02', '10.03', '10.04', '10.05', '10.06',\n",
       "       '10.07', '10.08', '10.08e',\n",
       "       ...\n",
       "       'SV.50', 'SV.51', 'SW.11', 'SW.12', 'SW.13', 'SW.31', 'SW.41', 'SW.43',\n",
       "       'SW.91', 'SW.99'],\n",
       "      dtype='object', length=182)"
      ]
     },
     "execution_count": 48,
     "metadata": {},
     "output_type": "execute_result"
    }
   ],
   "source": [
    "#clean column heads to keep only the code\n",
    "list1 = []\n",
    "list2 = []\n",
    "for e in DB.columns :\n",
    "    list1.append(e)\n",
    "for e in list1 :\n",
    "    try:\n",
    "        ind = e.index(\"#\")\n",
    "        list2.append(e[:ind]) \n",
    "    except : list2.append(e)\n",
    "DB.columns = list2\n",
    "DB.columns"
   ]
  },
  {
   "cell_type": "code",
   "execution_count": 49,
   "metadata": {},
   "outputs": [],
   "source": [
    "#new features from the local code : extract building and service. The code looks like XX.X.XXX.XXX\n",
    "list1 = []\n",
    "list2 = []\n",
    "list3 = []\n",
    "for e in DB[\"Code_Local\"]:\n",
    "    ind = e.index(\".\")\n",
    "    list1.append(e[(ind+1):])\n",
    "    list2.append(e[:ind]) \n",
    "\n",
    "for e in list1 :\n",
    "    ind = e.index(\".\")\n",
    "    list3.append(e[:ind])\n",
    "    \n",
    "DB_test = DB.assign(Batiment=list2, Service=list3)"
   ]
  },
  {
   "cell_type": "code",
   "execution_count": 50,
   "metadata": {},
   "outputs": [
    {
     "data": {
      "text/html": [
       "<div>\n",
       "<style scoped>\n",
       "    .dataframe tbody tr th:only-of-type {\n",
       "        vertical-align: middle;\n",
       "    }\n",
       "\n",
       "    .dataframe tbody tr th {\n",
       "        vertical-align: top;\n",
       "    }\n",
       "\n",
       "    .dataframe thead th {\n",
       "        text-align: right;\n",
       "    }\n",
       "</style>\n",
       "<table border=\"1\" class=\"dataframe\">\n",
       "  <thead>\n",
       "    <tr style=\"text-align: right;\">\n",
       "      <th></th>\n",
       "      <th>Batiment</th>\n",
       "      <th>Service</th>\n",
       "      <th>41.03</th>\n",
       "      <th>41.05</th>\n",
       "      <th>41.06</th>\n",
       "      <th>41.07</th>\n",
       "      <th>41.08</th>\n",
       "      <th>41.09</th>\n",
       "    </tr>\n",
       "  </thead>\n",
       "  <tbody>\n",
       "    <tr>\n",
       "      <th>0</th>\n",
       "      <td>11</td>\n",
       "      <td>C</td>\n",
       "      <td>Aucun</td>\n",
       "      <td>S/R</td>\n",
       "      <td>NC (Air rafraîchi)</td>\n",
       "      <td>NC (65% max)</td>\n",
       "      <td>1 vol/h</td>\n",
       "      <td>1 vol/h</td>\n",
       "    </tr>\n",
       "    <tr>\n",
       "      <th>1</th>\n",
       "      <td>11</td>\n",
       "      <td>C</td>\n",
       "      <td>Aucun</td>\n",
       "      <td>S/R</td>\n",
       "      <td>NC (Air rafraîchi)</td>\n",
       "      <td>NC (65% max)</td>\n",
       "      <td>1 vol/h</td>\n",
       "      <td>1 vol/h</td>\n",
       "    </tr>\n",
       "    <tr>\n",
       "      <th>2</th>\n",
       "      <td>11</td>\n",
       "      <td>C</td>\n",
       "      <td>Aucun</td>\n",
       "      <td>S/R</td>\n",
       "      <td>NC (Air rafraîchi)</td>\n",
       "      <td>NC (65% max)</td>\n",
       "      <td>1 vol/h</td>\n",
       "      <td>1 vol/h</td>\n",
       "    </tr>\n",
       "    <tr>\n",
       "      <th>3</th>\n",
       "      <td>11</td>\n",
       "      <td>C</td>\n",
       "      <td>Aucun</td>\n",
       "      <td>S/R</td>\n",
       "      <td>NC (Air rafraîchi)</td>\n",
       "      <td>NC (65% max)</td>\n",
       "      <td>1 vol/h</td>\n",
       "      <td>1 vol/h</td>\n",
       "    </tr>\n",
       "    <tr>\n",
       "      <th>4</th>\n",
       "      <td>11</td>\n",
       "      <td>C</td>\n",
       "      <td>Aucun</td>\n",
       "      <td>S/R</td>\n",
       "      <td>NC (Air rafraîchi)</td>\n",
       "      <td>NC (65% max)</td>\n",
       "      <td>1 vol/h</td>\n",
       "      <td>1 vol/h</td>\n",
       "    </tr>\n",
       "  </tbody>\n",
       "</table>\n",
       "</div>"
      ],
      "text/plain": [
       "  Batiment Service  41.03 41.05               41.06         41.07    41.08  \\\n",
       "0       11       C  Aucun   S/R  NC (Air rafraîchi)  NC (65% max)  1 vol/h   \n",
       "1       11       C  Aucun   S/R  NC (Air rafraîchi)  NC (65% max)  1 vol/h   \n",
       "2       11       C  Aucun   S/R  NC (Air rafraîchi)  NC (65% max)  1 vol/h   \n",
       "3       11       C  Aucun   S/R  NC (Air rafraîchi)  NC (65% max)  1 vol/h   \n",
       "4       11       C  Aucun   S/R  NC (Air rafraîchi)  NC (65% max)  1 vol/h   \n",
       "\n",
       "     41.09  \n",
       "0  1 vol/h  \n",
       "1  1 vol/h  \n",
       "2  1 vol/h  \n",
       "3  1 vol/h  \n",
       "4  1 vol/h  "
      ]
     },
     "execution_count": 50,
     "metadata": {},
     "output_type": "execute_result"
    }
   ],
   "source": [
    "DB_HVAC = DB_test[['Batiment','Service','41.03','41.05','41.06','41.07', '41.08', '41.09']]\n",
    "DB_HVAC_target = DB_test[['41.02']]\n",
    "DB_HVAC.head()"
   ]
  },
  {
   "cell_type": "code",
   "execution_count": 51,
   "metadata": {
    "scrolled": true
   },
   "outputs": [
    {
     "data": {
      "text/html": [
       "<div>\n",
       "<style scoped>\n",
       "    .dataframe tbody tr th:only-of-type {\n",
       "        vertical-align: middle;\n",
       "    }\n",
       "\n",
       "    .dataframe tbody tr th {\n",
       "        vertical-align: top;\n",
       "    }\n",
       "\n",
       "    .dataframe thead th {\n",
       "        text-align: right;\n",
       "    }\n",
       "</style>\n",
       "<table border=\"1\" class=\"dataframe\">\n",
       "  <thead>\n",
       "    <tr style=\"text-align: right;\">\n",
       "      <th></th>\n",
       "      <th>41.02</th>\n",
       "    </tr>\n",
       "  </thead>\n",
       "  <tbody>\n",
       "    <tr>\n",
       "      <th>0</th>\n",
       "      <td>Double flux hygiénique</td>\n",
       "    </tr>\n",
       "    <tr>\n",
       "      <th>1</th>\n",
       "      <td>Double flux hygiénique</td>\n",
       "    </tr>\n",
       "    <tr>\n",
       "      <th>2</th>\n",
       "      <td>Double flux hygiénique</td>\n",
       "    </tr>\n",
       "    <tr>\n",
       "      <th>3</th>\n",
       "      <td>Double flux hygiénique</td>\n",
       "    </tr>\n",
       "    <tr>\n",
       "      <th>4</th>\n",
       "      <td>Double flux hygiénique</td>\n",
       "    </tr>\n",
       "  </tbody>\n",
       "</table>\n",
       "</div>"
      ],
      "text/plain": [
       "                    41.02\n",
       "0  Double flux hygiénique\n",
       "1  Double flux hygiénique\n",
       "2  Double flux hygiénique\n",
       "3  Double flux hygiénique\n",
       "4  Double flux hygiénique"
      ]
     },
     "execution_count": 51,
     "metadata": {},
     "output_type": "execute_result"
    }
   ],
   "source": [
    "DB_HVAC_target.head()"
   ]
  },
  {
   "cell_type": "code",
   "execution_count": 52,
   "metadata": {},
   "outputs": [
    {
     "data": {
      "text/plain": [
       "('String', 10, 'Other types', 0)"
      ]
     },
     "execution_count": 52,
     "metadata": {},
     "output_type": "execute_result"
    }
   ],
   "source": [
    "#Check routine. Some tools to similar things exist in pandas but this code suited my needs\n",
    "def check_if_str(list):\n",
    "    #counts the number of unique values which are strings\n",
    "    uniq = np.unique(list)\n",
    "    unilist = []\n",
    "    for e in uniq :\n",
    "        a = isinstance(e, str)\n",
    "        unilist.append(a)\n",
    "    return \"String\", unilist.count(True), \"Other types\", unilist.count(False)\n",
    "\n",
    "check_if_str(DB_HVAC['41.05'])\n"
   ]
  },
  {
   "cell_type": "markdown",
   "metadata": {},
   "source": [
    "# Data cleaning and processing\n",
    "1. first, clean all spaces\n",
    "2. clean special characters and punctuation. Careful when doing this, I removed all punctuation. Worked for the project fortunately\n",
    "3. One hot Encoding"
   ]
  },
  {
   "cell_type": "code",
   "execution_count": 53,
   "metadata": {},
   "outputs": [
    {
     "data": {
      "text/plain": [
       "('22degC!', '22degC')"
      ]
     },
     "execution_count": 53,
     "metadata": {},
     "output_type": "execute_result"
    }
   ],
   "source": [
    "#testing some cleaning functions\n",
    "from unidecode import unidecode\n",
    "#remove special characters\n",
    "s = unidecode(\"22°C!\")\n",
    "\n",
    "import string\n",
    "#remove punctuation \n",
    "st = s.translate(str.maketrans('', '', string.punctuation))\n",
    "\n",
    "s, st"
   ]
  },
  {
   "cell_type": "code",
   "execution_count": 54,
   "metadata": {},
   "outputs": [],
   "source": [
    "#data cleaning functions\n",
    "def series_cleaner(series) :\n",
    "    name = series.name\n",
    "    se = series.str.replace(' ', '', regex=True)\n",
    "    li = se.tolist()\n",
    "    lis = []\n",
    "    for e in li :\n",
    "        e = unidecode(e)\n",
    "        ee = e.translate(str.maketrans('', '', string.punctuation))\n",
    "        lis.append(ee)\n",
    "    se = pd.Series( lis )\n",
    "    se.name = name\n",
    "    return se\n",
    "\n",
    "def clean_series_with_0 (series, string):\n",
    "    se = series.str.replace(string, '0')\n",
    "    return se\n",
    "\n",
    "def clean_series_multi_0 (series, list):\n",
    "    #transforms the values of the list in the series with zeros\n",
    "    for e in list :\n",
    "        series = clean_series_with_0(series, e)\n",
    "    return series\n",
    "\n"
   ]
  },
  {
   "cell_type": "code",
   "execution_count": null,
   "metadata": {},
   "outputs": [],
   "source": []
  },
  {
   "cell_type": "code",
   "execution_count": 55,
   "metadata": {},
   "outputs": [],
   "source": [
    "#One hot encoding to make the data suitable for an algorithm. The Sci-kit learn tool didn't give me the results I wanted\n",
    "#from sklearn.preprocessing import OneHotEncoder \n",
    "\n",
    "def onehot_df (df) :\n",
    "    columns = retrieve_series(df)\n",
    "    df_ohe = df\n",
    "    for column in columns :\n",
    "        df_ohe = pd.concat([df_ohe, pd.get_dummies(column ,column.name, prefix_sep='_')], axis=1)\n",
    "        df_ohe.drop(column.name, axis=1, inplace=True)\n",
    "    return df_ohe\n"
   ]
  },
  {
   "cell_type": "code",
   "execution_count": 56,
   "metadata": {},
   "outputs": [],
   "source": [
    "# data cleaning functions\n",
    "def retrieve_series(df) : \n",
    "    series = []\n",
    "    for e in df.columns.values :\n",
    "        series.append(df[e])\n",
    "    return series\n",
    "\n",
    "\n",
    "def prepare_DB_all (df) :\n",
    "    series = retrieve_series(df)\n",
    "    series_cl = []\n",
    "    for e in series :\n",
    "        cl_col = series_cleaner(e)\n",
    "        cl0_col = clean_series_multi_0(cl_col, ['-', ''])\n",
    "        series_cl.append(cl_col)\n",
    "    df_se = pd.concat(series_cl, axis=1)\n",
    "    ohe_df = onehot_df(df_se)\n",
    "    return ohe_df\n",
    "        "
   ]
  },
  {
   "cell_type": "code",
   "execution_count": 57,
   "metadata": {},
   "outputs": [
    {
     "data": {
      "text/html": [
       "<div>\n",
       "<style scoped>\n",
       "    .dataframe tbody tr th:only-of-type {\n",
       "        vertical-align: middle;\n",
       "    }\n",
       "\n",
       "    .dataframe tbody tr th {\n",
       "        vertical-align: top;\n",
       "    }\n",
       "\n",
       "    .dataframe thead th {\n",
       "        text-align: right;\n",
       "    }\n",
       "</style>\n",
       "<table border=\"1\" class=\"dataframe\">\n",
       "  <thead>\n",
       "    <tr style=\"text-align: right;\">\n",
       "      <th></th>\n",
       "      <th>Batiment_11</th>\n",
       "      <th>Batiment_20</th>\n",
       "      <th>Batiment_31</th>\n",
       "      <th>Batiment_32</th>\n",
       "      <th>Batiment_33</th>\n",
       "      <th>Batiment_34</th>\n",
       "      <th>Batiment_40</th>\n",
       "      <th>Batiment_50</th>\n",
       "      <th>Service_C</th>\n",
       "      <th>Service_E</th>\n",
       "      <th>...</th>\n",
       "      <th>41.09_6volhenapportsmaxbase2volh</th>\n",
       "      <th>41.09_6volhenapportsmaxbase4volh</th>\n",
       "      <th>41.09_800m3hparextractionspecifique</th>\n",
       "      <th>41.09_8volh</th>\n",
       "      <th>41.09_8volh900m3hparextractionspecifique</th>\n",
       "      <th>41.09_8volhenapportsmaxbase1volh</th>\n",
       "      <th>41.09_8volhenapportsmaxbase2volh</th>\n",
       "      <th>41.09_8volhenapportsmaxbase4volh</th>\n",
       "      <th>41.09_8volhenapportsmaxbase6volh</th>\n",
       "      <th>Type de traitement</th>\n",
       "    </tr>\n",
       "  </thead>\n",
       "  <tbody>\n",
       "    <tr>\n",
       "      <th>0</th>\n",
       "      <td>1</td>\n",
       "      <td>0</td>\n",
       "      <td>0</td>\n",
       "      <td>0</td>\n",
       "      <td>0</td>\n",
       "      <td>0</td>\n",
       "      <td>0</td>\n",
       "      <td>0</td>\n",
       "      <td>1</td>\n",
       "      <td>0</td>\n",
       "      <td>...</td>\n",
       "      <td>0</td>\n",
       "      <td>0</td>\n",
       "      <td>0</td>\n",
       "      <td>0</td>\n",
       "      <td>0</td>\n",
       "      <td>0</td>\n",
       "      <td>0</td>\n",
       "      <td>0</td>\n",
       "      <td>0</td>\n",
       "      <td>Double flux hygiénique</td>\n",
       "    </tr>\n",
       "    <tr>\n",
       "      <th>1</th>\n",
       "      <td>1</td>\n",
       "      <td>0</td>\n",
       "      <td>0</td>\n",
       "      <td>0</td>\n",
       "      <td>0</td>\n",
       "      <td>0</td>\n",
       "      <td>0</td>\n",
       "      <td>0</td>\n",
       "      <td>1</td>\n",
       "      <td>0</td>\n",
       "      <td>...</td>\n",
       "      <td>0</td>\n",
       "      <td>0</td>\n",
       "      <td>0</td>\n",
       "      <td>0</td>\n",
       "      <td>0</td>\n",
       "      <td>0</td>\n",
       "      <td>0</td>\n",
       "      <td>0</td>\n",
       "      <td>0</td>\n",
       "      <td>Double flux hygiénique</td>\n",
       "    </tr>\n",
       "    <tr>\n",
       "      <th>2</th>\n",
       "      <td>1</td>\n",
       "      <td>0</td>\n",
       "      <td>0</td>\n",
       "      <td>0</td>\n",
       "      <td>0</td>\n",
       "      <td>0</td>\n",
       "      <td>0</td>\n",
       "      <td>0</td>\n",
       "      <td>1</td>\n",
       "      <td>0</td>\n",
       "      <td>...</td>\n",
       "      <td>0</td>\n",
       "      <td>0</td>\n",
       "      <td>0</td>\n",
       "      <td>0</td>\n",
       "      <td>0</td>\n",
       "      <td>0</td>\n",
       "      <td>0</td>\n",
       "      <td>0</td>\n",
       "      <td>0</td>\n",
       "      <td>Double flux hygiénique</td>\n",
       "    </tr>\n",
       "    <tr>\n",
       "      <th>3</th>\n",
       "      <td>1</td>\n",
       "      <td>0</td>\n",
       "      <td>0</td>\n",
       "      <td>0</td>\n",
       "      <td>0</td>\n",
       "      <td>0</td>\n",
       "      <td>0</td>\n",
       "      <td>0</td>\n",
       "      <td>1</td>\n",
       "      <td>0</td>\n",
       "      <td>...</td>\n",
       "      <td>0</td>\n",
       "      <td>0</td>\n",
       "      <td>0</td>\n",
       "      <td>0</td>\n",
       "      <td>0</td>\n",
       "      <td>0</td>\n",
       "      <td>0</td>\n",
       "      <td>0</td>\n",
       "      <td>0</td>\n",
       "      <td>Double flux hygiénique</td>\n",
       "    </tr>\n",
       "    <tr>\n",
       "      <th>4</th>\n",
       "      <td>1</td>\n",
       "      <td>0</td>\n",
       "      <td>0</td>\n",
       "      <td>0</td>\n",
       "      <td>0</td>\n",
       "      <td>0</td>\n",
       "      <td>0</td>\n",
       "      <td>0</td>\n",
       "      <td>1</td>\n",
       "      <td>0</td>\n",
       "      <td>...</td>\n",
       "      <td>0</td>\n",
       "      <td>0</td>\n",
       "      <td>0</td>\n",
       "      <td>0</td>\n",
       "      <td>0</td>\n",
       "      <td>0</td>\n",
       "      <td>0</td>\n",
       "      <td>0</td>\n",
       "      <td>0</td>\n",
       "      <td>Double flux hygiénique</td>\n",
       "    </tr>\n",
       "  </tbody>\n",
       "</table>\n",
       "<p>5 rows × 199 columns</p>\n",
       "</div>"
      ],
      "text/plain": [
       "   Batiment_11  Batiment_20  Batiment_31  Batiment_32  Batiment_33  \\\n",
       "0            1            0            0            0            0   \n",
       "1            1            0            0            0            0   \n",
       "2            1            0            0            0            0   \n",
       "3            1            0            0            0            0   \n",
       "4            1            0            0            0            0   \n",
       "\n",
       "   Batiment_34  Batiment_40  Batiment_50  Service_C  Service_E  ...  \\\n",
       "0            0            0            0          1          0  ...   \n",
       "1            0            0            0          1          0  ...   \n",
       "2            0            0            0          1          0  ...   \n",
       "3            0            0            0          1          0  ...   \n",
       "4            0            0            0          1          0  ...   \n",
       "\n",
       "   41.09_6volhenapportsmaxbase2volh  41.09_6volhenapportsmaxbase4volh  \\\n",
       "0                                 0                                 0   \n",
       "1                                 0                                 0   \n",
       "2                                 0                                 0   \n",
       "3                                 0                                 0   \n",
       "4                                 0                                 0   \n",
       "\n",
       "   41.09_800m3hparextractionspecifique  41.09_8volh  \\\n",
       "0                                    0            0   \n",
       "1                                    0            0   \n",
       "2                                    0            0   \n",
       "3                                    0            0   \n",
       "4                                    0            0   \n",
       "\n",
       "   41.09_8volh900m3hparextractionspecifique  41.09_8volhenapportsmaxbase1volh  \\\n",
       "0                                         0                                 0   \n",
       "1                                         0                                 0   \n",
       "2                                         0                                 0   \n",
       "3                                         0                                 0   \n",
       "4                                         0                                 0   \n",
       "\n",
       "   41.09_8volhenapportsmaxbase2volh  41.09_8volhenapportsmaxbase4volh  \\\n",
       "0                                 0                                 0   \n",
       "1                                 0                                 0   \n",
       "2                                 0                                 0   \n",
       "3                                 0                                 0   \n",
       "4                                 0                                 0   \n",
       "\n",
       "   41.09_8volhenapportsmaxbase6volh      Type de traitement  \n",
       "0                                 0  Double flux hygiénique  \n",
       "1                                 0  Double flux hygiénique  \n",
       "2                                 0  Double flux hygiénique  \n",
       "3                                 0  Double flux hygiénique  \n",
       "4                                 0  Double flux hygiénique  \n",
       "\n",
       "[5 rows x 199 columns]"
      ]
     },
     "execution_count": 57,
     "metadata": {},
     "output_type": "execute_result"
    }
   ],
   "source": [
    "#prepare the database\n",
    "DB_target = pd.Series(data = DB_HVAC_target['41.02'], name ='Type de traitement')\n",
    "\n",
    "DB_ohe_tot = prepare_DB_all(DB_HVAC)\n",
    "DB_complete = pd.concat([DB_ohe_tot, DB_target], axis=1)\n",
    "DB_complete.head()\n"
   ]
  },
  {
   "cell_type": "markdown",
   "metadata": {},
   "source": [
    "# Machine learning"
   ]
  },
  {
   "cell_type": "code",
   "execution_count": 58,
   "metadata": {},
   "outputs": [
    {
     "data": {
      "text/html": [
       "<div>\n",
       "<style scoped>\n",
       "    .dataframe tbody tr th:only-of-type {\n",
       "        vertical-align: middle;\n",
       "    }\n",
       "\n",
       "    .dataframe tbody tr th {\n",
       "        vertical-align: top;\n",
       "    }\n",
       "\n",
       "    .dataframe thead th {\n",
       "        text-align: right;\n",
       "    }\n",
       "</style>\n",
       "<table border=\"1\" class=\"dataframe\">\n",
       "  <thead>\n",
       "    <tr style=\"text-align: right;\">\n",
       "      <th></th>\n",
       "      <th>Batiment_11</th>\n",
       "      <th>Batiment_20</th>\n",
       "      <th>Batiment_31</th>\n",
       "      <th>Batiment_32</th>\n",
       "      <th>Batiment_33</th>\n",
       "      <th>Batiment_34</th>\n",
       "      <th>Batiment_40</th>\n",
       "      <th>Batiment_50</th>\n",
       "      <th>Service_C</th>\n",
       "      <th>Service_E</th>\n",
       "      <th>...</th>\n",
       "      <th>41.09_6volhenapportsmaxbase1volh</th>\n",
       "      <th>41.09_6volhenapportsmaxbase2volh</th>\n",
       "      <th>41.09_6volhenapportsmaxbase4volh</th>\n",
       "      <th>41.09_800m3hparextractionspecifique</th>\n",
       "      <th>41.09_8volh</th>\n",
       "      <th>41.09_8volh900m3hparextractionspecifique</th>\n",
       "      <th>41.09_8volhenapportsmaxbase1volh</th>\n",
       "      <th>41.09_8volhenapportsmaxbase2volh</th>\n",
       "      <th>41.09_8volhenapportsmaxbase4volh</th>\n",
       "      <th>41.09_8volhenapportsmaxbase6volh</th>\n",
       "    </tr>\n",
       "  </thead>\n",
       "  <tbody>\n",
       "    <tr>\n",
       "      <th>658</th>\n",
       "      <td>0</td>\n",
       "      <td>0</td>\n",
       "      <td>0</td>\n",
       "      <td>1</td>\n",
       "      <td>0</td>\n",
       "      <td>0</td>\n",
       "      <td>0</td>\n",
       "      <td>0</td>\n",
       "      <td>0</td>\n",
       "      <td>0</td>\n",
       "      <td>...</td>\n",
       "      <td>0</td>\n",
       "      <td>0</td>\n",
       "      <td>0</td>\n",
       "      <td>0</td>\n",
       "      <td>0</td>\n",
       "      <td>0</td>\n",
       "      <td>0</td>\n",
       "      <td>0</td>\n",
       "      <td>0</td>\n",
       "      <td>0</td>\n",
       "    </tr>\n",
       "    <tr>\n",
       "      <th>2836</th>\n",
       "      <td>0</td>\n",
       "      <td>0</td>\n",
       "      <td>0</td>\n",
       "      <td>0</td>\n",
       "      <td>0</td>\n",
       "      <td>0</td>\n",
       "      <td>0</td>\n",
       "      <td>1</td>\n",
       "      <td>1</td>\n",
       "      <td>0</td>\n",
       "      <td>...</td>\n",
       "      <td>0</td>\n",
       "      <td>0</td>\n",
       "      <td>0</td>\n",
       "      <td>0</td>\n",
       "      <td>0</td>\n",
       "      <td>0</td>\n",
       "      <td>0</td>\n",
       "      <td>0</td>\n",
       "      <td>0</td>\n",
       "      <td>0</td>\n",
       "    </tr>\n",
       "    <tr>\n",
       "      <th>1773</th>\n",
       "      <td>0</td>\n",
       "      <td>0</td>\n",
       "      <td>0</td>\n",
       "      <td>0</td>\n",
       "      <td>0</td>\n",
       "      <td>1</td>\n",
       "      <td>0</td>\n",
       "      <td>0</td>\n",
       "      <td>0</td>\n",
       "      <td>0</td>\n",
       "      <td>...</td>\n",
       "      <td>0</td>\n",
       "      <td>0</td>\n",
       "      <td>0</td>\n",
       "      <td>0</td>\n",
       "      <td>0</td>\n",
       "      <td>0</td>\n",
       "      <td>0</td>\n",
       "      <td>0</td>\n",
       "      <td>0</td>\n",
       "      <td>0</td>\n",
       "    </tr>\n",
       "    <tr>\n",
       "      <th>173</th>\n",
       "      <td>0</td>\n",
       "      <td>0</td>\n",
       "      <td>1</td>\n",
       "      <td>0</td>\n",
       "      <td>0</td>\n",
       "      <td>0</td>\n",
       "      <td>0</td>\n",
       "      <td>0</td>\n",
       "      <td>0</td>\n",
       "      <td>0</td>\n",
       "      <td>...</td>\n",
       "      <td>0</td>\n",
       "      <td>0</td>\n",
       "      <td>0</td>\n",
       "      <td>0</td>\n",
       "      <td>0</td>\n",
       "      <td>0</td>\n",
       "      <td>0</td>\n",
       "      <td>0</td>\n",
       "      <td>0</td>\n",
       "      <td>0</td>\n",
       "    </tr>\n",
       "    <tr>\n",
       "      <th>3994</th>\n",
       "      <td>0</td>\n",
       "      <td>0</td>\n",
       "      <td>0</td>\n",
       "      <td>0</td>\n",
       "      <td>0</td>\n",
       "      <td>0</td>\n",
       "      <td>0</td>\n",
       "      <td>1</td>\n",
       "      <td>0</td>\n",
       "      <td>0</td>\n",
       "      <td>...</td>\n",
       "      <td>0</td>\n",
       "      <td>0</td>\n",
       "      <td>0</td>\n",
       "      <td>0</td>\n",
       "      <td>0</td>\n",
       "      <td>0</td>\n",
       "      <td>0</td>\n",
       "      <td>0</td>\n",
       "      <td>0</td>\n",
       "      <td>0</td>\n",
       "    </tr>\n",
       "  </tbody>\n",
       "</table>\n",
       "<p>5 rows × 198 columns</p>\n",
       "</div>"
      ],
      "text/plain": [
       "      Batiment_11  Batiment_20  Batiment_31  Batiment_32  Batiment_33  \\\n",
       "658             0            0            0            1            0   \n",
       "2836            0            0            0            0            0   \n",
       "1773            0            0            0            0            0   \n",
       "173             0            0            1            0            0   \n",
       "3994            0            0            0            0            0   \n",
       "\n",
       "      Batiment_34  Batiment_40  Batiment_50  Service_C  Service_E  ...  \\\n",
       "658             0            0            0          0          0  ...   \n",
       "2836            0            0            1          1          0  ...   \n",
       "1773            1            0            0          0          0  ...   \n",
       "173             0            0            0          0          0  ...   \n",
       "3994            0            0            1          0          0  ...   \n",
       "\n",
       "      41.09_6volhenapportsmaxbase1volh  41.09_6volhenapportsmaxbase2volh  \\\n",
       "658                                  0                                 0   \n",
       "2836                                 0                                 0   \n",
       "1773                                 0                                 0   \n",
       "173                                  0                                 0   \n",
       "3994                                 0                                 0   \n",
       "\n",
       "      41.09_6volhenapportsmaxbase4volh  41.09_800m3hparextractionspecifique  \\\n",
       "658                                  0                                    0   \n",
       "2836                                 0                                    0   \n",
       "1773                                 0                                    0   \n",
       "173                                  0                                    0   \n",
       "3994                                 0                                    0   \n",
       "\n",
       "      41.09_8volh  41.09_8volh900m3hparextractionspecifique  \\\n",
       "658             0                                         0   \n",
       "2836            0                                         0   \n",
       "1773            0                                         0   \n",
       "173             0                                         0   \n",
       "3994            0                                         0   \n",
       "\n",
       "      41.09_8volhenapportsmaxbase1volh  41.09_8volhenapportsmaxbase2volh  \\\n",
       "658                                  0                                 0   \n",
       "2836                                 0                                 0   \n",
       "1773                                 0                                 0   \n",
       "173                                  0                                 0   \n",
       "3994                                 0                                 0   \n",
       "\n",
       "      41.09_8volhenapportsmaxbase4volh  41.09_8volhenapportsmaxbase6volh  \n",
       "658                                  0                                 0  \n",
       "2836                                 0                                 0  \n",
       "1773                                 0                                 0  \n",
       "173                                  0                                 0  \n",
       "3994                                 0                                 0  \n",
       "\n",
       "[5 rows x 198 columns]"
      ]
     },
     "execution_count": 58,
     "metadata": {},
     "output_type": "execute_result"
    }
   ],
   "source": [
    "#test and train sets\n",
    "from sklearn.model_selection import train_test_split\n",
    "X_train, X_test, Y_train, Y_test = train_test_split(DB_complete.drop(columns=[\"Type de traitement\"]), DB_complete[\"Type de traitement\"], test_size=0.33, random_state=42)\n",
    "\n",
    "X_train.head()\n"
   ]
  },
  {
   "cell_type": "code",
   "execution_count": 59,
   "metadata": {},
   "outputs": [
    {
     "data": {
      "text/plain": [
       "776      Reprise simple flux hygiénique\n",
       "1666     Reprise simple flux hygiénique\n",
       "1728             Double flux hygiénique\n",
       "23               Double flux hygiénique\n",
       "3337    Double flux, Ventilo-convecteur\n",
       "Name: Type de traitement, dtype: object"
      ]
     },
     "execution_count": 59,
     "metadata": {},
     "output_type": "execute_result"
    }
   ],
   "source": [
    "Y_test.head()"
   ]
  },
  {
   "cell_type": "code",
   "execution_count": 60,
   "metadata": {},
   "outputs": [
    {
     "name": "stdout",
     "output_type": "stream",
     "text": [
      "<class 'pandas.core.frame.DataFrame'>\n",
      "Int64Index: 3095 entries, 658 to 860\n",
      "Columns: 198 entries, Batiment_11 to 41.09_8volhenapportsmaxbase6volh\n",
      "dtypes: uint8(198)\n",
      "memory usage: 622.6 KB\n"
     ]
    }
   ],
   "source": [
    "X_train.info()"
   ]
  },
  {
   "cell_type": "code",
   "execution_count": 61,
   "metadata": {},
   "outputs": [
    {
     "data": {
      "text/plain": [
       "DecisionTreeClassifier(class_weight=None, criterion='gini', max_depth=None,\n",
       "            max_features=None, max_leaf_nodes=None,\n",
       "            min_impurity_decrease=0.0, min_impurity_split=None,\n",
       "            min_samples_leaf=1, min_samples_split=2,\n",
       "            min_weight_fraction_leaf=0.0, presort=False, random_state=None,\n",
       "            splitter='best')"
      ]
     },
     "execution_count": 61,
     "metadata": {},
     "output_type": "execute_result"
    }
   ],
   "source": [
    "#Create a decision tree classifier model\n",
    "from sklearn.tree import DecisionTreeClassifier\n",
    "tree_clf = DecisionTreeClassifier()\n",
    "tree_clf.fit(X_train, Y_train)\n",
    "\n"
   ]
  },
  {
   "cell_type": "code",
   "execution_count": 62,
   "metadata": {},
   "outputs": [
    {
     "data": {
      "text/plain": [
       "0.9691803278688524"
      ]
     },
     "execution_count": 62,
     "metadata": {},
     "output_type": "execute_result"
    }
   ],
   "source": [
    "#evaluate the model\n",
    "from sklearn.metrics import accuracy_score\n",
    "pred = tree_clf.predict(X_test)\n",
    "\n",
    "score = accuracy_score(Y_test,pred, normalize=True, sample_weight=None)\n",
    "score"
   ]
  },
  {
   "cell_type": "markdown",
   "metadata": {},
   "source": [
    "# Hyperparameters tuning\n",
    "We tried to do some automated paramater tuning. It looks like the default values turned out to be almost optimal !"
   ]
  },
  {
   "cell_type": "code",
   "execution_count": 63,
   "metadata": {
    "scrolled": true
   },
   "outputs": [
    {
     "data": {
      "text/plain": [
       "array([0.9517134 , 0.96190476, 0.95934959, 0.97540984, 0.97157191])"
      ]
     },
     "execution_count": 63,
     "metadata": {},
     "output_type": "execute_result"
    }
   ],
   "source": [
    "from sklearn.model_selection import cross_val_score\n",
    "cross_val_score(tree_clf, X_train, Y_train, cv=5, scoring='accuracy')"
   ]
  },
  {
   "cell_type": "code",
   "execution_count": 64,
   "metadata": {},
   "outputs": [
    {
     "data": {
      "text/plain": [
       "GridSearchCV(cv=5, error_score='raise-deprecating',\n",
       "       estimator=DecisionTreeClassifier(class_weight=None, criterion='gini', max_depth=None,\n",
       "            max_features=None, max_leaf_nodes=None,\n",
       "            min_impurity_decrease=0.0, min_impurity_split=None,\n",
       "            min_samples_leaf=1, min_samples_split=2,\n",
       "            min_weight_fraction_leaf=0.0, presort=False, random_state=None,\n",
       "            splitter='best'),\n",
       "       fit_params=None, iid='warn', n_jobs=None,\n",
       "       param_grid=[{'min_samples_leaf': [1, 10, 30, 300], 'max_features': [10, 100, 150]}],\n",
       "       pre_dispatch='2*n_jobs', refit=True, return_train_score=True,\n",
       "       scoring='accuracy', verbose=0)"
      ]
     },
     "execution_count": 64,
     "metadata": {},
     "output_type": "execute_result"
    }
   ],
   "source": [
    "from sklearn.model_selection import GridSearchCV\n",
    "\n",
    "param_grid = [\n",
    "    {'min_samples_leaf': [ 1, 10, 30, 300], 'max_features': [ 10, 100, 150]}\n",
    "    ]\n",
    "\n",
    "grid_search = GridSearchCV(tree_clf, param_grid, cv=5,\n",
    "                           scoring='accuracy', return_train_score=True)\n",
    "grid_search.fit(X_train, Y_train)"
   ]
  },
  {
   "cell_type": "code",
   "execution_count": 65,
   "metadata": {},
   "outputs": [
    {
     "data": {
      "text/plain": [
       "{'max_features': 150, 'min_samples_leaf': 1}"
      ]
     },
     "execution_count": 65,
     "metadata": {},
     "output_type": "execute_result"
    }
   ],
   "source": [
    "grid_search.best_params_"
   ]
  },
  {
   "cell_type": "code",
   "execution_count": 66,
   "metadata": {
    "scrolled": true
   },
   "outputs": [
    {
     "data": {
      "text/plain": [
       "DecisionTreeClassifier(class_weight=None, criterion='gini', max_depth=None,\n",
       "            max_features=150, max_leaf_nodes=None,\n",
       "            min_impurity_decrease=0.0, min_impurity_split=None,\n",
       "            min_samples_leaf=1, min_samples_split=2,\n",
       "            min_weight_fraction_leaf=0.0, presort=False, random_state=None,\n",
       "            splitter='best')"
      ]
     },
     "execution_count": 66,
     "metadata": {},
     "output_type": "execute_result"
    }
   ],
   "source": [
    "tree_clf2 = tree_clf = DecisionTreeClassifier(max_features=150, min_samples_leaf=1)\n",
    "tree_clf.fit(X_train, Y_train)"
   ]
  },
  {
   "cell_type": "code",
   "execution_count": 67,
   "metadata": {},
   "outputs": [
    {
     "data": {
      "text/plain": [
       "0.9711475409836066"
      ]
     },
     "execution_count": 67,
     "metadata": {},
     "output_type": "execute_result"
    }
   ],
   "source": [
    "pred2 = tree_clf2.predict(X_test)\n",
    "score = accuracy_score(Y_test,pred2, normalize=True, sample_weight=None)\n",
    "score"
   ]
  },
  {
   "cell_type": "markdown",
   "metadata": {},
   "source": [
    "# Side note\n",
    "A lot of things could have been done better for sure. It isn't a production ready model or anything. One thing to keep in mind is that the outcome we try to learn has many parameters, as shown in the histogram below. \n",
    "If the model only predicts the ones that are statistically frequent, we will get a good score anyway (that's not what is happening with this model, but it could happen). \n"
   ]
  },
  {
   "cell_type": "markdown",
   "metadata": {},
   "source": [
    "Our best way of improving the model here lies in the data : the engineers that gave the values put a lot of detail in the description of the HVAC system to be used. Therefore, by lowering a bit the detail, and only keeping the main aspects of the HVAC treatment, we could get data with way less possible values for the target we are trying to predict and a better prediction rate."
   ]
  },
  {
   "cell_type": "code",
   "execution_count": 74,
   "metadata": {},
   "outputs": [
    {
     "data": {
      "image/png": "[encoded data removed]",
      "text/plain": [
       "<Figure size 3600x1080 with 1 Axes>"
      ]
     },
     "metadata": {
      "needs_background": "light"
     },
     "output_type": "display_data"
    }
   ],
   "source": [
    "#histogram for target values\n",
    "\n",
    "import collections\n",
    "x = collections.Counter(DB_HVAC_target[\"41.02\"])\n",
    "\n",
    "plt.figure(figsize=(50,15))\n",
    "\n",
    "l = []\n",
    "for c in range(len(x.keys())): l.append(c)\n",
    "    \n",
    "plt.bar(l, x.values(), align='center' )\n",
    "plt.xticks(l, x.keys())\n",
    "plt.title(\"Repartition of all possible target values\", fontsize=70)\n",
    "\n",
    "plt.show()"
   ]
  },
  {
   "cell_type": "code",
   "execution_count": null,
   "metadata": {},
   "outputs": [],
   "source": []
  }
 ],
 "metadata": {
  "celltoolbar": "Format de la Cellule Texte Brut",
  "kernelspec": {
   "display_name": "Python 3",
   "language": "python",
   "name": "python3"
  },
  "language_info": {
   "codemirror_mode": {
    "name": "ipython",
    "version": 3
   },
   "file_extension": ".py",
   "mimetype": "text/x-python",
   "name": "python",
   "nbconvert_exporter": "python",
   "pygments_lexer": "ipython3",
   "version": "3.6.8"
  }
 },
 "nbformat": 4,
 "nbformat_minor": 2
}
